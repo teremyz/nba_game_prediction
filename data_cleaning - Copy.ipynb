{
 "cells": [
  {
   "cell_type": "code",
   "execution_count": 1,
   "metadata": {},
   "outputs": [],
   "source": [
    "import pandas as pd\n",
    "import numpy as np\n",
    "import matplotlib as plt"
   ]
  },
  {
   "cell_type": "code",
   "execution_count": 86,
   "metadata": {},
   "outputs": [],
   "source": [
    "def box_score_table_reader(path, start_season, end_season, file_end):\n",
    "    \n",
    "    all_df = pd.read_csv(path + 'NBA_' + str(start_season) + file_end)\n",
    "    all_df['season'] = start_season\n",
    "    \n",
    "    for i in range(start_season + 1, end_season):\n",
    "        df = pd.read_csv(path + 'NBA_' + str(i) + file_end)\n",
    "        df['season'] = i \n",
    "        all_df = pd.concat([all_df, df])\n",
    "    \n",
    "    return(all_df)"
   ]
  },
  {
   "cell_type": "code",
   "execution_count": 87,
   "metadata": {},
   "outputs": [],
   "source": [
    "file_end = '_games.csv'\n",
    "path = 'C:/Users/Hp/Desktop/year2021/nba game prediction/data/box scores/'\n",
    "df = box_score_table_reader(path, 2014, 2022, file_end)"
   ]
  },
  {
   "cell_type": "code",
   "execution_count": 88,
   "metadata": {},
   "outputs": [
    {
     "data": {
      "text/html": [
       "<div>\n",
       "<style scoped>\n",
       "    .dataframe tbody tr th:only-of-type {\n",
       "        vertical-align: middle;\n",
       "    }\n",
       "\n",
       "    .dataframe tbody tr th {\n",
       "        vertical-align: top;\n",
       "    }\n",
       "\n",
       "    .dataframe thead th {\n",
       "        text-align: right;\n",
       "    }\n",
       "</style>\n",
       "<table border=\"1\" class=\"dataframe\">\n",
       "  <thead>\n",
       "    <tr style=\"text-align: right;\">\n",
       "      <th></th>\n",
       "      <th>Unnamed: 0</th>\n",
       "      <th>starter</th>\n",
       "      <th>Starters</th>\n",
       "      <th>MP</th>\n",
       "      <th>FG</th>\n",
       "      <th>FGA</th>\n",
       "      <th>FG%</th>\n",
       "      <th>3P</th>\n",
       "      <th>3PA</th>\n",
       "      <th>3P%</th>\n",
       "      <th>...</th>\n",
       "      <th>STL</th>\n",
       "      <th>BLK</th>\n",
       "      <th>TOV</th>\n",
       "      <th>PF</th>\n",
       "      <th>PTS</th>\n",
       "      <th>+/-</th>\n",
       "      <th>team</th>\n",
       "      <th>team_id</th>\n",
       "      <th>game_id</th>\n",
       "      <th>season</th>\n",
       "    </tr>\n",
       "  </thead>\n",
       "  <tbody>\n",
       "    <tr>\n",
       "      <td>0</td>\n",
       "      <td>0</td>\n",
       "      <td>1</td>\n",
       "      <td>LeBron James</td>\n",
       "      <td>38:01</td>\n",
       "      <td>5.0</td>\n",
       "      <td>11.0</td>\n",
       "      <td>0.455</td>\n",
       "      <td>0.0</td>\n",
       "      <td>1.0</td>\n",
       "      <td>0.0</td>\n",
       "      <td>...</td>\n",
       "      <td>1.0</td>\n",
       "      <td>0.0</td>\n",
       "      <td>2.0</td>\n",
       "      <td>0.0</td>\n",
       "      <td>17.0</td>\n",
       "      <td>8.0</td>\n",
       "      <td>Miami Heat</td>\n",
       "      <td>/teams/MIA/2014.html</td>\n",
       "      <td>201310290MIA.html</td>\n",
       "      <td>2014</td>\n",
       "    </tr>\n",
       "    <tr>\n",
       "      <td>1</td>\n",
       "      <td>1</td>\n",
       "      <td>1</td>\n",
       "      <td>Dwyane Wade</td>\n",
       "      <td>36:07</td>\n",
       "      <td>5.0</td>\n",
       "      <td>13.0</td>\n",
       "      <td>0.385</td>\n",
       "      <td>1.0</td>\n",
       "      <td>1.0</td>\n",
       "      <td>1.0</td>\n",
       "      <td>...</td>\n",
       "      <td>1.0</td>\n",
       "      <td>1.0</td>\n",
       "      <td>3.0</td>\n",
       "      <td>4.0</td>\n",
       "      <td>13.0</td>\n",
       "      <td>2.0</td>\n",
       "      <td>Miami Heat</td>\n",
       "      <td>/teams/MIA/2014.html</td>\n",
       "      <td>201310290MIA.html</td>\n",
       "      <td>2014</td>\n",
       "    </tr>\n",
       "  </tbody>\n",
       "</table>\n",
       "<p>2 rows × 27 columns</p>\n",
       "</div>"
      ],
      "text/plain": [
       "   Unnamed: 0  starter      Starters     MP   FG   FGA    FG%   3P  3PA  3P%  \\\n",
       "0           0        1  LeBron James  38:01  5.0  11.0  0.455  0.0  1.0  0.0   \n",
       "1           1        1   Dwyane Wade  36:07  5.0  13.0  0.385  1.0  1.0  1.0   \n",
       "\n",
       "   ...  STL  BLK  TOV   PF   PTS  +/-        team               team_id  \\\n",
       "0  ...  1.0  0.0  2.0  0.0  17.0  8.0  Miami Heat  /teams/MIA/2014.html   \n",
       "1  ...  1.0  1.0  3.0  4.0  13.0  2.0  Miami Heat  /teams/MIA/2014.html   \n",
       "\n",
       "             game_id  season  \n",
       "0  201310290MIA.html    2014  \n",
       "1  201310290MIA.html    2014  \n",
       "\n",
       "[2 rows x 27 columns]"
      ]
     },
     "execution_count": 88,
     "metadata": {},
     "output_type": "execute_result"
    }
   ],
   "source": [
    "df.head(2)"
   ]
  },
  {
   "cell_type": "code",
   "execution_count": 5,
   "metadata": {},
   "outputs": [
    {
     "data": {
      "text/plain": [
       "Unnamed: 0      int64\n",
       "starter         int64\n",
       "Starters       object\n",
       "MP             object\n",
       "FG            float64\n",
       "FGA           float64\n",
       "FG%           float64\n",
       "3P            float64\n",
       "3PA           float64\n",
       "3P%           float64\n",
       "FT            float64\n",
       "FTA           float64\n",
       "FT%           float64\n",
       "ORB           float64\n",
       "DRB           float64\n",
       "TRB           float64\n",
       "AST           float64\n",
       "STL           float64\n",
       "BLK           float64\n",
       "TOV           float64\n",
       "PF            float64\n",
       "PTS           float64\n",
       "+/-           float64\n",
       "team           object\n",
       "team_id        object\n",
       "game_id        object\n",
       "season          int64\n",
       "dtype: object"
      ]
     },
     "execution_count": 5,
     "metadata": {},
     "output_type": "execute_result"
    }
   ],
   "source": [
    "df.dtypes"
   ]
  },
  {
   "cell_type": "code",
   "execution_count": 6,
   "metadata": {},
   "outputs": [],
   "source": [
    "df.MP = df.MP.replace('Did Not Play', '00:00').replace('Did Not Dress', '00:00').replace('Not With Team', '00:00').replace('Player Suspended', '00:00')\n",
    "\n",
    "df['played_min'] = df.MP.str.split(':', expand = True)[0]\n",
    "df['played_sec'] = df.MP.str.split(':', expand = True)[1]\n",
    "\n",
    "df.MP = df.MP.replace('Did Not Play', np.nan).replace('Did Not Dress', np.nan).replace('Not With Team', np.nan).replace('Player Suspended', np.nan)\n",
    "\n",
    "df['played'] = np.where(df['FG'].isna(), False, True)\n",
    "df.MP = np.where(df['MP'] == 'NaT', 0, df['MP'])"
   ]
  },
  {
   "cell_type": "code",
   "execution_count": 25,
   "metadata": {},
   "outputs": [],
   "source": [
    "#df.to_csv('C:/Users/Hp/Desktop/year2021/nba game prediction/data/box scores/merged_seasons_2014_2021.csv')"
   ]
  },
  {
   "cell_type": "code",
   "execution_count": 49,
   "metadata": {},
   "outputs": [],
   "source": [
    "df = pd.read_csv('C:/Users/Hp/Desktop/year2021/nba game prediction/data/box scores/NBA_2019_gamesbox_score.csv')"
   ]
  },
  {
   "cell_type": "code",
   "execution_count": 95,
   "metadata": {},
   "outputs": [],
   "source": [
    "file_end = '_gamesbox_score.csv'\n",
    "path = 'C:/Users/Hp/Desktop/year2021/nba game prediction/data/box scores/'\n",
    "df = box_score_table_reader(path, 2014, 2022, file_end)"
   ]
  },
  {
   "cell_type": "code",
   "execution_count": 96,
   "metadata": {},
   "outputs": [],
   "source": [
    "df['OT_dummy'] = np.where(df.OT.isna(), False, True)\n",
    "df['hour'] = df['hour'].str.replace('p', '')\n",
    "df['date'] = pd.to_datetime(df.date, format = '%a, %b %d, %Y')\n",
    "df['day'] = df.date.dt.day\n",
    "df['month'] = df.date.dt.month\n",
    "df['year'] = df.date.dt.year\n",
    "df['day_name'] = df.date.dt.day_name()\n",
    "df.att = pd.to_numeric(df.att.str.replace(',', ''))"
   ]
  },
  {
   "cell_type": "code",
   "execution_count": 97,
   "metadata": {},
   "outputs": [
    {
     "data": {
      "text/plain": [
       "Unnamed: 0                 int64\n",
       "date              datetime64[ns]\n",
       "hour                      object\n",
       "visitor                   object\n",
       "visitor_id                object\n",
       "visitor_score              int64\n",
       "home                      object\n",
       "home_id                   object\n",
       "home_score                 int64\n",
       "box_score_link            object\n",
       "OT                        object\n",
       "att                      float64\n",
       "season                     int64\n",
       "OT_dummy                    bool\n",
       "day                        int64\n",
       "month                      int64\n",
       "year                       int64\n",
       "day_name                  object\n",
       "dtype: object"
      ]
     },
     "execution_count": 97,
     "metadata": {},
     "output_type": "execute_result"
    }
   ],
   "source": [
    "df.dtypes"
   ]
  }
 ],
 "metadata": {
  "kernelspec": {
   "display_name": "Python 3",
   "language": "python",
   "name": "python3"
  },
  "language_info": {
   "codemirror_mode": {
    "name": "ipython",
    "version": 3
   },
   "file_extension": ".py",
   "mimetype": "text/x-python",
   "name": "python",
   "nbconvert_exporter": "python",
   "pygments_lexer": "ipython3",
   "version": "3.7.4"
  }
 },
 "nbformat": 4,
 "nbformat_minor": 2
}
